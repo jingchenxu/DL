{
 "cells": [
  {
   "cell_type": "code",
   "execution_count": 7,
   "metadata": {},
   "outputs": [
    {
     "name": "stdout",
     "output_type": "stream",
     "text": [
      "[{'domain': 'www.torrentkitty.tv', 'expiry': 2172399280, 'httpOnly': False, 'name': '__cfduid', 'path': '/', 'secure': True, 'value': 'd414a6242896f370e5ee28f1ce1a7ee321535777636'}, {'domain': '.torrentkitty.tv', 'expiry': 1573215280.936384, 'httpOnly': True, 'name': '__cfduid', 'path': '/', 'secure': False, 'value': 'd9d54f0e8a729636b6ec9d30fd66873d81541679280'}, {'domain': 'www.torrentkitty.tv', 'expiry': 2172399280, 'httpOnly': False, 'name': 'cf_clearance', 'path': '/', 'secure': True, 'value': '06dd38c5fcaa262448e04fece8064253886b73fd-1541677713-1800-150'}, {'domain': '.torrentkitty.tv', 'expiry': 1541684695.615625, 'httpOnly': True, 'name': 'cf_clearance', 'path': '/', 'secure': False, 'value': '505e8a1895098f626f14ad68b0493372e55f17d5-1541679294-1800-150'}]\n",
      "<title>Just a moment...</title>\n"
     ]
    }
   ],
   "source": [
    "from selenium import webdriver\n",
    "from bs4 import BeautifulSoup\n",
    "import time\n",
    "\n",
    "# 配置chrome代理\n",
    "chromeOption = webdriver.ChromeOptions()\n",
    "chromeOption.add_argument('--proxy-server=http://localhost:1081')\n",
    "\n",
    "# 调用chrome进行测试\n",
    "browser = webdriver.Chrome(chrome_options=chromeOption)\n",
    "\n",
    "# 开始访问页面\n",
    "browser.get(\"https://www.torrentkitty.tv/search/AMA-028/\")\n",
    "# 加载实在是太慢了\n",
    "# time.sleep(5)\n",
    "\n",
    "# 设置cookie\n",
    "browser.add_cookie({'name':'__cfduid','value':'d414a6242896f370e5ee28f1ce1a7ee321535777636'})\n",
    "browser.add_cookie({'name':'cf_clearance','value':'06dd38c5fcaa262448e04fece8064253886b73fd-1541677713-1800-150'})\n",
    "\n",
    "time.sleep(20)\n",
    "\n",
    "# browser.refresh()\n",
    "\n",
    "# 获取cookie 并且打印出来\n",
    "cookie = browser.get_cookies()\n",
    "print(cookie)\n",
    "\n",
    "# 创建一个页面的截图\n",
    "browser.get_screenshot_as_file(\"f:\\\\github\\\\DL\\\\baidu.png\")\n",
    "\n",
    "# 开始解析html\n",
    "content = browser.page_source\n",
    "\n",
    "# 解析器好像有点问题\n",
    "soup = BeautifulSoup(content)\n",
    "\n",
    "print(soup.title)\n",
    "\n",
    "browser.close()\n"
   ]
  },
  {
   "cell_type": "code",
   "execution_count": null,
   "metadata": {},
   "outputs": [],
   "source": []
  }
 ],
 "metadata": {
  "kernelspec": {
   "display_name": "Python 3",
   "language": "python",
   "name": "python3"
  },
  "language_info": {
   "codemirror_mode": {
    "name": "ipython",
    "version": 3
   },
   "file_extension": ".py",
   "mimetype": "text/x-python",
   "name": "python",
   "nbconvert_exporter": "python",
   "pygments_lexer": "ipython3",
   "version": "3.6.6"
  }
 },
 "nbformat": 4,
 "nbformat_minor": 2
}
